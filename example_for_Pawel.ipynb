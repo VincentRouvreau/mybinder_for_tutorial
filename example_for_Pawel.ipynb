{
 "cells": [
  {
   "cell_type": "code",
   "execution_count": 2,
   "metadata": {},
   "outputs": [
    {
     "name": "stdout",
     "output_type": "stream",
     "text": [
      "Betti numbers (something is wrong):  [1, 0, 0]\n"
     ]
    }
   ],
   "source": [
    "#Here we will compute Betti numbers of \n",
    "#0 0 0\n",
    "#0 1 0\n",
    "#0 0 0\n",
    "import gudhi\n",
    "import numpy as np\n",
    "\n",
    "dims = np.array( [3,3] )\n",
    "data = np.array( [0, 0, 0, 0, 1, 0, 0, 0, 0] )\n",
    "\n",
    "cubical_complex = gudhi.CubicalComplex( dimensions = dims , top_dimensional_cells = data )\n",
    "\n",
    "#If we do this:\n",
    "cubical_complex.persistence()\n",
    "b_nrs = cubical_complex.betti_numbers()\n",
    "print( 'Betti numbers (something is wrong): ', b_nrs )"
   ]
  }
 ],
 "metadata": {
  "kernelspec": {
   "display_name": "Python 3",
   "language": "python",
   "name": "python3"
  },
  "language_info": {
   "codemirror_mode": {
    "name": "ipython",
    "version": 3
   },
   "file_extension": ".py",
   "mimetype": "text/x-python",
   "name": "python",
   "nbconvert_exporter": "python",
   "pygments_lexer": "ipython3",
   "version": "3.6.9"
  }
 },
 "nbformat": 4,
 "nbformat_minor": 2
}
